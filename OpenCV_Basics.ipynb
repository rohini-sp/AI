{
 "cells": [
  {
   "cell_type": "code",
   "execution_count": 12,
   "id": "2fdafd37-cd41-4607-811c-0732c9a8cde6",
   "metadata": {},
   "outputs": [],
   "source": [
    "import cv2\n",
    "import numpy as np"
   ]
  },
  {
   "cell_type": "code",
   "execution_count": 2,
   "id": "c5888bfe-22c2-4d89-90d4-0bb8765624a6",
   "metadata": {},
   "outputs": [
    {
     "name": "stdout",
     "output_type": "stream",
     "text": [
      "[[[55 89 42]\n",
      "  [49 83 36]\n",
      "  [45 75 32]\n",
      "  ...\n",
      "  [ 5 10 13]\n",
      "  [ 5 10 13]\n",
      "  [ 5 10 13]]\n",
      "\n",
      " [[46 80 33]\n",
      "  [48 82 35]\n",
      "  [51 81 38]\n",
      "  ...\n",
      "  [ 5 10 13]\n",
      "  [ 5 10 13]\n",
      "  [ 5 10 13]]\n",
      "\n",
      " [[49 83 36]\n",
      "  [47 81 34]\n",
      "  [46 76 33]\n",
      "  ...\n",
      "  [ 5 10 13]\n",
      "  [ 5 10 13]\n",
      "  [ 5 10 13]]\n",
      "\n",
      " ...\n",
      "\n",
      " [[ 3 11  4]\n",
      "  [ 1  9  2]\n",
      "  [ 2 10  3]\n",
      "  ...\n",
      "  [16 25 12]\n",
      "  [18 27 14]\n",
      "  [14 23 10]]\n",
      "\n",
      " [[ 3 11  4]\n",
      "  [ 0  8  1]\n",
      "  [ 0  8  1]\n",
      "  ...\n",
      "  [16 26 10]\n",
      "  [17 26 13]\n",
      "  [14 23 10]]\n",
      "\n",
      " [[ 0  8  1]\n",
      "  [ 0  8  1]\n",
      "  [ 0  8  1]\n",
      "  ...\n",
      "  [17 27 11]\n",
      "  [16 26 10]\n",
      "  [14 24  8]]]\n"
     ]
    }
   ],
   "source": [
    "img = cv2.imread(\"C:\\\\Users\\\\SHYAM\\\\Downloads\\\\parrot.jpg\") \n",
    "print(img)"
   ]
  },
  {
   "cell_type": "code",
   "execution_count": 10,
   "id": "937773b2-1812-4fe5-840f-5b592d601453",
   "metadata": {},
   "outputs": [],
   "source": [
    "# convert BGR format to Grayscale\n",
    "img_g = cv2.cvtColor(img, cv2.COLOR_BGR2GRAY)\n",
    "\n",
    "cv2.imshow('frame1', img)\n",
    "cv2.imshow('frame2', img_g)\n",
    "\n",
    "# press any key with 0 wait time\n",
    "cv2.waitKey(0)\n",
    "# Close all imageframe\n",
    "cv2.destroyAllWindows()"
   ]
  },
  {
   "cell_type": "code",
   "execution_count": 11,
   "id": "368f9695-26d0-45c0-9ed6-ca7d5ed70b58",
   "metadata": {},
   "outputs": [],
   "source": [
    "# Canny(image, threshold1, threshold2)\n",
    "# Computing Edge Gradient with canny thresholds\n",
    "# The edge gradients that are greater tha threshold value will be detected as Edges\n",
    "# thresholds lower than threshold1 will not be considered as edges.\n",
    "edges_low = cv2.Canny(img_g, 50, 120)\n",
    "cv2.imshow('Edge Detection', edges_low)\n",
    "\n",
    "edges_high = cv2.Canny(img_g, 60, 200)\n",
    "cv2.imshow('High Edge Detection', edges_high)\n",
    "\n",
    "# press any key with 0 wait time\n",
    "cv2.waitKey(0)\n",
    "# Close all imageframe\n",
    "cv2.destroyAllWindows()"
   ]
  },
  {
   "cell_type": "code",
   "execution_count": 13,
   "id": "ba98ca2e-69c3-4367-a7ce-b2dabb64ba1d",
   "metadata": {},
   "outputs": [
    {
     "name": "stdout",
     "output_type": "stream",
     "text": [
      "[[0.04 0.04 0.04 0.04 0.04]\n",
      " [0.04 0.04 0.04 0.04 0.04]\n",
      " [0.04 0.04 0.04 0.04 0.04]\n",
      " [0.04 0.04 0.04 0.04 0.04]\n",
      " [0.04 0.04 0.04 0.04 0.04]]\n"
     ]
    }
   ],
   "source": [
    "# Apply smoothening of Image - Apply Blur\n",
    "\n",
    "# Blur using Filter2D\n",
    "kernel = np.ones((5,5), np.float32) / 25\n",
    "print(kernel)"
   ]
  },
  {
   "cell_type": "code",
   "execution_count": 14,
   "id": "3aa1fcd9-4136-4772-93d7-46885d791b85",
   "metadata": {},
   "outputs": [],
   "source": [
    "# Filter2D\n",
    "smoothed = cv2.filter2D(img, -1, kernel)"
   ]
  },
  {
   "cell_type": "code",
   "execution_count": 15,
   "id": "3fc270ef-ca86-4edf-a07f-4a9eb0a98e5c",
   "metadata": {},
   "outputs": [],
   "source": [
    "# Average Blur\n",
    "img_blur = cv2.blur(img, (5,5))"
   ]
  },
  {
   "cell_type": "code",
   "execution_count": 16,
   "id": "7483a91e-6d77-49e8-9491-a8f5255d0e04",
   "metadata": {},
   "outputs": [],
   "source": [
    "# Median Blur\n",
    "m_blur = cv2.medianBlur(img, 7)"
   ]
  },
  {
   "cell_type": "code",
   "execution_count": 17,
   "id": "1719558e-bc79-4fd9-b57d-9e9dc572a5d7",
   "metadata": {},
   "outputs": [],
   "source": [
    "# Gaussian Blur, sigmaX(stdDev)= 1\n",
    "g_blur = cv2.GaussianBlur(img, (7,7), 1)"
   ]
  },
  {
   "cell_type": "code",
   "execution_count": 19,
   "id": "294860bc-05be-4783-937f-f79464c37641",
   "metadata": {},
   "outputs": [],
   "source": [
    "cv2.imshow('Original', img)\n",
    "cv2.imshow('Blur', smoothed)\n",
    "cv2.imshow('average', img_blur)\n",
    "cv2.imshow('median', m_blur)\n",
    "cv2.imshow('gaussian', g_blur)\n",
    "\n",
    "# press any key with 0 wait time\n",
    "cv2.waitKey(0)\n",
    "# Close all imageframe\n",
    "cv2.destroyAllWindows()"
   ]
  },
  {
   "cell_type": "code",
   "execution_count": null,
   "id": "d7a8e29a-151f-4bad-8a67-8aa54d1551f0",
   "metadata": {},
   "outputs": [],
   "source": []
  }
 ],
 "metadata": {
  "kernelspec": {
   "display_name": "Python 3 (ipykernel)",
   "language": "python",
   "name": "python3"
  },
  "language_info": {
   "codemirror_mode": {
    "name": "ipython",
    "version": 3
   },
   "file_extension": ".py",
   "mimetype": "text/x-python",
   "name": "python",
   "nbconvert_exporter": "python",
   "pygments_lexer": "ipython3",
   "version": "3.10.4"
  }
 },
 "nbformat": 4,
 "nbformat_minor": 5
}
