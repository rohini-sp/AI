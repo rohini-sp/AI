{
 "cells": [
  {
   "cell_type": "code",
   "execution_count": 2,
   "id": "7fd35f3f-51fe-4c43-b8b3-6beb60bea8db",
   "metadata": {},
   "outputs": [],
   "source": [
    "import cv2\n",
    "import imutils"
   ]
  },
  {
   "cell_type": "code",
   "execution_count": 3,
   "id": "bcbe03a3-3c96-44f2-ac43-ccca7840bc4d",
   "metadata": {},
   "outputs": [],
   "source": [
    "img = cv2.imread(\"C:\\\\Users\\\\SHYAM\\\\Downloads\\\\parrot.jpg\")"
   ]
  },
  {
   "cell_type": "code",
   "execution_count": 4,
   "id": "2133ea12-e20a-4195-a9ba-56ac805dabd3",
   "metadata": {},
   "outputs": [],
   "source": [
    "# It takes height and width of image and reshapes to 500x500\n",
    "img_resize = cv2.resize(img, (700,700))\n",
    "\n",
    "img_resize1 = imutils.resize(img, width = 900)"
   ]
  },
  {
   "cell_type": "code",
   "execution_count": 6,
   "id": "d5f312a0-7df8-4c38-9cc5-d7a2c11abc00",
   "metadata": {},
   "outputs": [],
   "source": [
    "cv2.imshow('Original', img)\n",
    "cv2.imshow('Reshape', img_resize)\n",
    "cv2.imshow('Reshape1', img_resize1)\n",
    "\n",
    "# press any key with 0 wait time\n",
    "cv2.waitKey(0)\n",
    "# Close all imageframe\n",
    "cv2.destroyAllWindows()"
   ]
  },
  {
   "cell_type": "code",
   "execution_count": null,
   "id": "8dde832f-b993-4a32-9dc4-3a9bac915e70",
   "metadata": {},
   "outputs": [],
   "source": [
    " "
   ]
  }
 ],
 "metadata": {
  "kernelspec": {
   "display_name": "Python 3 (ipykernel)",
   "language": "python",
   "name": "python3"
  },
  "language_info": {
   "codemirror_mode": {
    "name": "ipython",
    "version": 3
   },
   "file_extension": ".py",
   "mimetype": "text/x-python",
   "name": "python",
   "nbconvert_exporter": "python",
   "pygments_lexer": "ipython3",
   "version": "3.10.4"
  }
 },
 "nbformat": 4,
 "nbformat_minor": 5
}
