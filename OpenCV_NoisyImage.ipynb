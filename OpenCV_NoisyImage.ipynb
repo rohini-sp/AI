{
 "cells": [
  {
   "cell_type": "code",
   "execution_count": 1,
   "id": "73aa5b05-a47b-4a9c-ab06-90ba332fab6f",
   "metadata": {},
   "outputs": [],
   "source": [
    "import cv2\n",
    "import random"
   ]
  },
  {
   "cell_type": "code",
   "execution_count": 2,
   "id": "260bbde9-dcb3-4ffa-8f16-2d730ce43ae8",
   "metadata": {},
   "outputs": [],
   "source": [
    "def noise_black_white(image):\n",
    "    # Get the dimensions of Image\n",
    "    row, col = image.shape\n",
    "    num_of_pixels = random.randint(1500, 20000)\n",
    "    for i in range(num_of_pixels):\n",
    "        # pick random y-coordinate\n",
    "        y_coordinate = random.randint(0, row - 1)\n",
    "        # pick random x-coordinate\n",
    "        x_coordinate = random.randint(0, col - 1)\n",
    "        image[y_coordinate][x_coordinate] = 255\n",
    "    for i in range(num_of_pixels):\n",
    "        # pick random y-coordinate\n",
    "        y_coordinate = random.randint(0, row - 1)\n",
    "        # pick random x-coordinate\n",
    "        x_coordinate = random.randint(0, col - 1)\n",
    "        image[y_coordinate][x_coordinate] = 0\n",
    "    return image"
   ]
  },
  {
   "cell_type": "code",
   "execution_count": 3,
   "id": "02dc4e5a-665d-4ea9-ab4e-4abedb1eb4fc",
   "metadata": {},
   "outputs": [],
   "source": [
    "image = cv2.imread(\"C:\\\\Users\\\\SHYAM\\\\Downloads\\\\parrot.jpg\", cv2.IMREAD_GRAYSCALE)"
   ]
  },
  {
   "cell_type": "code",
   "execution_count": 4,
   "id": "9c7014d6-be7e-4961-9a25-6779a763e9e9",
   "metadata": {},
   "outputs": [],
   "source": [
    "cv2.imshow('Original Image', image)\n",
    "cv2.imshow('Noisy Image',noise_black_white(image))\n",
    "\n",
    "cv2.imwrite(\"E:/OpenCV/noisy_image.jpg\",noise_black_white(image))\n",
    "\n",
    "# press any key with 0 wait time\n",
    "cv2.waitKey(0)\n",
    "# Close all imageframe\n",
    "cv2.destroyAllWindows()"
   ]
  },
  {
   "cell_type": "code",
   "execution_count": 6,
   "id": "50ec3763-2179-435d-afaf-5b3bb54b568e",
   "metadata": {},
   "outputs": [],
   "source": [
    "# Median Blur\n",
    "m_blur = cv2.medianBlur(image, 3)\n",
    "\n",
    "# Gaussian Blur, sigmaX(stdDev)= 1\n",
    "g_blur = cv2.GaussianBlur(image, (7,7), 1)\n",
    "\n",
    "cv2.imshow('Original', image)\n",
    "cv2.imshow('median', m_blur)\n",
    "cv2.imshow('gaussian', g_blur)\n",
    "\n",
    "\n",
    "# press any key with 0 wait time\n",
    "cv2.waitKey(0)\n",
    "# Close all imageframe\n",
    "cv2.destroyAllWindows()"
   ]
  },
  {
   "cell_type": "code",
   "execution_count": null,
   "id": "f03f1573-9d82-4213-86b9-7c0cb6762cf8",
   "metadata": {},
   "outputs": [
    {
     "name": "stdout",
     "output_type": "stream",
     "text": [
      "[[468 227]\n",
      " [  0   0]\n",
      " [  0   0]\n",
      " [  0   0]]\n",
      "[[468 227]\n",
      " [252 174]\n",
      " [  0   0]\n",
      " [  0   0]]\n",
      "[[468 227]\n",
      " [252 174]\n",
      " [128 189]\n",
      " [  0   0]]\n",
      "[[468 227]\n",
      " [252 174]\n",
      " [128 189]\n",
      " [286 110]]\n"
     ]
    },
    {
     "ename": "IndexError",
     "evalue": "index 4 is out of bounds for axis 0 with size 4",
     "output_type": "error",
     "traceback": [
      "\u001b[1;31m---------------------------------------------------------------------------\u001b[0m",
      "\u001b[1;31mIndexError\u001b[0m                                Traceback (most recent call last)",
      "Cell \u001b[1;32mIn[7], line 9\u001b[0m, in \u001b[0;36mmousePosition\u001b[1;34m(event, x, y, flags, params)\u001b[0m\n\u001b[0;32m      7\u001b[0m \u001b[38;5;28;01mglobal\u001b[39;00m counter\n\u001b[0;32m      8\u001b[0m \u001b[38;5;28;01mif\u001b[39;00m event \u001b[38;5;241m==\u001b[39m cv2\u001b[38;5;241m.\u001b[39mEVENT_LBUTTONDOWN:\n\u001b[1;32m----> 9\u001b[0m     \u001b[43mcircles\u001b[49m\u001b[43m[\u001b[49m\u001b[43mcounter\u001b[49m\u001b[43m]\u001b[49m \u001b[38;5;241m=\u001b[39m x, y\n\u001b[0;32m     10\u001b[0m     counter \u001b[38;5;241m+\u001b[39m\u001b[38;5;241m=\u001b[39m \u001b[38;5;241m1\u001b[39m\n\u001b[0;32m     11\u001b[0m     \u001b[38;5;28mprint\u001b[39m(circles)\n",
      "\u001b[1;31mIndexError\u001b[0m: index 4 is out of bounds for axis 0 with size 4"
     ]
    },
    {
     "ename": "IndexError",
     "evalue": "index 4 is out of bounds for axis 0 with size 4",
     "output_type": "error",
     "traceback": [
      "\u001b[1;31m---------------------------------------------------------------------------\u001b[0m",
      "\u001b[1;31mIndexError\u001b[0m                                Traceback (most recent call last)",
      "Cell \u001b[1;32mIn[7], line 9\u001b[0m, in \u001b[0;36mmousePosition\u001b[1;34m(event, x, y, flags, params)\u001b[0m\n\u001b[0;32m      7\u001b[0m \u001b[38;5;28;01mglobal\u001b[39;00m counter\n\u001b[0;32m      8\u001b[0m \u001b[38;5;28;01mif\u001b[39;00m event \u001b[38;5;241m==\u001b[39m cv2\u001b[38;5;241m.\u001b[39mEVENT_LBUTTONDOWN:\n\u001b[1;32m----> 9\u001b[0m     \u001b[43mcircles\u001b[49m\u001b[43m[\u001b[49m\u001b[43mcounter\u001b[49m\u001b[43m]\u001b[49m \u001b[38;5;241m=\u001b[39m x, y\n\u001b[0;32m     10\u001b[0m     counter \u001b[38;5;241m+\u001b[39m\u001b[38;5;241m=\u001b[39m \u001b[38;5;241m1\u001b[39m\n\u001b[0;32m     11\u001b[0m     \u001b[38;5;28mprint\u001b[39m(circles)\n",
      "\u001b[1;31mIndexError\u001b[0m: index 4 is out of bounds for axis 0 with size 4"
     ]
    },
    {
     "ename": "IndexError",
     "evalue": "index 4 is out of bounds for axis 0 with size 4",
     "output_type": "error",
     "traceback": [
      "\u001b[1;31m---------------------------------------------------------------------------\u001b[0m",
      "\u001b[1;31mIndexError\u001b[0m                                Traceback (most recent call last)",
      "Cell \u001b[1;32mIn[7], line 9\u001b[0m, in \u001b[0;36mmousePosition\u001b[1;34m(event, x, y, flags, params)\u001b[0m\n\u001b[0;32m      7\u001b[0m \u001b[38;5;28;01mglobal\u001b[39;00m counter\n\u001b[0;32m      8\u001b[0m \u001b[38;5;28;01mif\u001b[39;00m event \u001b[38;5;241m==\u001b[39m cv2\u001b[38;5;241m.\u001b[39mEVENT_LBUTTONDOWN:\n\u001b[1;32m----> 9\u001b[0m     \u001b[43mcircles\u001b[49m\u001b[43m[\u001b[49m\u001b[43mcounter\u001b[49m\u001b[43m]\u001b[49m \u001b[38;5;241m=\u001b[39m x, y\n\u001b[0;32m     10\u001b[0m     counter \u001b[38;5;241m+\u001b[39m\u001b[38;5;241m=\u001b[39m \u001b[38;5;241m1\u001b[39m\n\u001b[0;32m     11\u001b[0m     \u001b[38;5;28mprint\u001b[39m(circles)\n",
      "\u001b[1;31mIndexError\u001b[0m: index 4 is out of bounds for axis 0 with size 4"
     ]
    },
    {
     "ename": "IndexError",
     "evalue": "index 4 is out of bounds for axis 0 with size 4",
     "output_type": "error",
     "traceback": [
      "\u001b[1;31m---------------------------------------------------------------------------\u001b[0m",
      "\u001b[1;31mIndexError\u001b[0m                                Traceback (most recent call last)",
      "Cell \u001b[1;32mIn[7], line 9\u001b[0m, in \u001b[0;36mmousePosition\u001b[1;34m(event, x, y, flags, params)\u001b[0m\n\u001b[0;32m      7\u001b[0m \u001b[38;5;28;01mglobal\u001b[39;00m counter\n\u001b[0;32m      8\u001b[0m \u001b[38;5;28;01mif\u001b[39;00m event \u001b[38;5;241m==\u001b[39m cv2\u001b[38;5;241m.\u001b[39mEVENT_LBUTTONDOWN:\n\u001b[1;32m----> 9\u001b[0m     \u001b[43mcircles\u001b[49m\u001b[43m[\u001b[49m\u001b[43mcounter\u001b[49m\u001b[43m]\u001b[49m \u001b[38;5;241m=\u001b[39m x, y\n\u001b[0;32m     10\u001b[0m     counter \u001b[38;5;241m+\u001b[39m\u001b[38;5;241m=\u001b[39m \u001b[38;5;241m1\u001b[39m\n\u001b[0;32m     11\u001b[0m     \u001b[38;5;28mprint\u001b[39m(circles)\n",
      "\u001b[1;31mIndexError\u001b[0m: index 4 is out of bounds for axis 0 with size 4"
     ]
    },
    {
     "ename": "IndexError",
     "evalue": "index 4 is out of bounds for axis 0 with size 4",
     "output_type": "error",
     "traceback": [
      "\u001b[1;31m---------------------------------------------------------------------------\u001b[0m",
      "\u001b[1;31mIndexError\u001b[0m                                Traceback (most recent call last)",
      "Cell \u001b[1;32mIn[7], line 9\u001b[0m, in \u001b[0;36mmousePosition\u001b[1;34m(event, x, y, flags, params)\u001b[0m\n\u001b[0;32m      7\u001b[0m \u001b[38;5;28;01mglobal\u001b[39;00m counter\n\u001b[0;32m      8\u001b[0m \u001b[38;5;28;01mif\u001b[39;00m event \u001b[38;5;241m==\u001b[39m cv2\u001b[38;5;241m.\u001b[39mEVENT_LBUTTONDOWN:\n\u001b[1;32m----> 9\u001b[0m     \u001b[43mcircles\u001b[49m\u001b[43m[\u001b[49m\u001b[43mcounter\u001b[49m\u001b[43m]\u001b[49m \u001b[38;5;241m=\u001b[39m x, y\n\u001b[0;32m     10\u001b[0m     counter \u001b[38;5;241m+\u001b[39m\u001b[38;5;241m=\u001b[39m \u001b[38;5;241m1\u001b[39m\n\u001b[0;32m     11\u001b[0m     \u001b[38;5;28mprint\u001b[39m(circles)\n",
      "\u001b[1;31mIndexError\u001b[0m: index 4 is out of bounds for axis 0 with size 4"
     ]
    },
    {
     "ename": "IndexError",
     "evalue": "index 4 is out of bounds for axis 0 with size 4",
     "output_type": "error",
     "traceback": [
      "\u001b[1;31m---------------------------------------------------------------------------\u001b[0m",
      "\u001b[1;31mIndexError\u001b[0m                                Traceback (most recent call last)",
      "Cell \u001b[1;32mIn[7], line 9\u001b[0m, in \u001b[0;36mmousePosition\u001b[1;34m(event, x, y, flags, params)\u001b[0m\n\u001b[0;32m      7\u001b[0m \u001b[38;5;28;01mglobal\u001b[39;00m counter\n\u001b[0;32m      8\u001b[0m \u001b[38;5;28;01mif\u001b[39;00m event \u001b[38;5;241m==\u001b[39m cv2\u001b[38;5;241m.\u001b[39mEVENT_LBUTTONDOWN:\n\u001b[1;32m----> 9\u001b[0m     \u001b[43mcircles\u001b[49m\u001b[43m[\u001b[49m\u001b[43mcounter\u001b[49m\u001b[43m]\u001b[49m \u001b[38;5;241m=\u001b[39m x, y\n\u001b[0;32m     10\u001b[0m     counter \u001b[38;5;241m+\u001b[39m\u001b[38;5;241m=\u001b[39m \u001b[38;5;241m1\u001b[39m\n\u001b[0;32m     11\u001b[0m     \u001b[38;5;28mprint\u001b[39m(circles)\n",
      "\u001b[1;31mIndexError\u001b[0m: index 4 is out of bounds for axis 0 with size 4"
     ]
    },
    {
     "ename": "IndexError",
     "evalue": "index 4 is out of bounds for axis 0 with size 4",
     "output_type": "error",
     "traceback": [
      "\u001b[1;31m---------------------------------------------------------------------------\u001b[0m",
      "\u001b[1;31mIndexError\u001b[0m                                Traceback (most recent call last)",
      "Cell \u001b[1;32mIn[7], line 9\u001b[0m, in \u001b[0;36mmousePosition\u001b[1;34m(event, x, y, flags, params)\u001b[0m\n\u001b[0;32m      7\u001b[0m \u001b[38;5;28;01mglobal\u001b[39;00m counter\n\u001b[0;32m      8\u001b[0m \u001b[38;5;28;01mif\u001b[39;00m event \u001b[38;5;241m==\u001b[39m cv2\u001b[38;5;241m.\u001b[39mEVENT_LBUTTONDOWN:\n\u001b[1;32m----> 9\u001b[0m     \u001b[43mcircles\u001b[49m\u001b[43m[\u001b[49m\u001b[43mcounter\u001b[49m\u001b[43m]\u001b[49m \u001b[38;5;241m=\u001b[39m x, y\n\u001b[0;32m     10\u001b[0m     counter \u001b[38;5;241m+\u001b[39m\u001b[38;5;241m=\u001b[39m \u001b[38;5;241m1\u001b[39m\n\u001b[0;32m     11\u001b[0m     \u001b[38;5;28mprint\u001b[39m(circles)\n",
      "\u001b[1;31mIndexError\u001b[0m: index 4 is out of bounds for axis 0 with size 4"
     ]
    },
    {
     "ename": "IndexError",
     "evalue": "index 4 is out of bounds for axis 0 with size 4",
     "output_type": "error",
     "traceback": [
      "\u001b[1;31m---------------------------------------------------------------------------\u001b[0m",
      "\u001b[1;31mIndexError\u001b[0m                                Traceback (most recent call last)",
      "Cell \u001b[1;32mIn[7], line 9\u001b[0m, in \u001b[0;36mmousePosition\u001b[1;34m(event, x, y, flags, params)\u001b[0m\n\u001b[0;32m      7\u001b[0m \u001b[38;5;28;01mglobal\u001b[39;00m counter\n\u001b[0;32m      8\u001b[0m \u001b[38;5;28;01mif\u001b[39;00m event \u001b[38;5;241m==\u001b[39m cv2\u001b[38;5;241m.\u001b[39mEVENT_LBUTTONDOWN:\n\u001b[1;32m----> 9\u001b[0m     \u001b[43mcircles\u001b[49m\u001b[43m[\u001b[49m\u001b[43mcounter\u001b[49m\u001b[43m]\u001b[49m \u001b[38;5;241m=\u001b[39m x, y\n\u001b[0;32m     10\u001b[0m     counter \u001b[38;5;241m+\u001b[39m\u001b[38;5;241m=\u001b[39m \u001b[38;5;241m1\u001b[39m\n\u001b[0;32m     11\u001b[0m     \u001b[38;5;28mprint\u001b[39m(circles)\n",
      "\u001b[1;31mIndexError\u001b[0m: index 4 is out of bounds for axis 0 with size 4"
     ]
    },
    {
     "ename": "IndexError",
     "evalue": "index 4 is out of bounds for axis 0 with size 4",
     "output_type": "error",
     "traceback": [
      "\u001b[1;31m---------------------------------------------------------------------------\u001b[0m",
      "\u001b[1;31mIndexError\u001b[0m                                Traceback (most recent call last)",
      "Cell \u001b[1;32mIn[7], line 9\u001b[0m, in \u001b[0;36mmousePosition\u001b[1;34m(event, x, y, flags, params)\u001b[0m\n\u001b[0;32m      7\u001b[0m \u001b[38;5;28;01mglobal\u001b[39;00m counter\n\u001b[0;32m      8\u001b[0m \u001b[38;5;28;01mif\u001b[39;00m event \u001b[38;5;241m==\u001b[39m cv2\u001b[38;5;241m.\u001b[39mEVENT_LBUTTONDOWN:\n\u001b[1;32m----> 9\u001b[0m     \u001b[43mcircles\u001b[49m\u001b[43m[\u001b[49m\u001b[43mcounter\u001b[49m\u001b[43m]\u001b[49m \u001b[38;5;241m=\u001b[39m x, y\n\u001b[0;32m     10\u001b[0m     counter \u001b[38;5;241m+\u001b[39m\u001b[38;5;241m=\u001b[39m \u001b[38;5;241m1\u001b[39m\n\u001b[0;32m     11\u001b[0m     \u001b[38;5;28mprint\u001b[39m(circles)\n",
      "\u001b[1;31mIndexError\u001b[0m: index 4 is out of bounds for axis 0 with size 4"
     ]
    }
   ],
   "source": [
    "import numpy as np\n",
    "\n",
    "circles = np.zeros((4,2), int)\n",
    "counter = 0\n",
    "\n",
    "def mousePosition(event, x, y, flags, params):\n",
    "    global counter\n",
    "    if event == cv2.EVENT_LBUTTONDOWN:\n",
    "        circles[counter] = x, y\n",
    "        counter += 1\n",
    "        print(circles)\n",
    "        \n",
    "cv2.imshow(\"Original\", image)\n",
    "cv2.setMouseCallback('Original', mousePosition)\n",
    "\n",
    "# press any key with 0 wait time\n",
    "cv2.waitKey(0)\n",
    "# Close all imageframe\n",
    "cv2.destroyAllWindows()"
   ]
  },
  {
   "cell_type": "code",
   "execution_count": null,
   "id": "c3277c72-e779-4268-93ca-463e250643bb",
   "metadata": {},
   "outputs": [],
   "source": []
  }
 ],
 "metadata": {
  "kernelspec": {
   "display_name": "Python 3 (ipykernel)",
   "language": "python",
   "name": "python3"
  },
  "language_info": {
   "codemirror_mode": {
    "name": "ipython",
    "version": 3
   },
   "file_extension": ".py",
   "mimetype": "text/x-python",
   "name": "python",
   "nbconvert_exporter": "python",
   "pygments_lexer": "ipython3",
   "version": "3.10.4"
  }
 },
 "nbformat": 4,
 "nbformat_minor": 5
}
